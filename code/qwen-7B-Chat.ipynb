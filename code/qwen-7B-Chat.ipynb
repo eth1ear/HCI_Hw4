{
 "cells": [
  {
   "cell_type": "code",
   "execution_count": 1,
   "id": "ee4abc73",
   "metadata": {
    "execution": {
     "iopub.execute_input": "2024-06-10T13:12:49.019582Z",
     "iopub.status.busy": "2024-06-10T13:12:49.018938Z",
     "iopub.status.idle": "2024-06-10T13:12:53.066034Z",
     "shell.execute_reply": "2024-06-10T13:12:53.065346Z",
     "shell.execute_reply.started": "2024-06-10T13:12:49.019549Z"
    }
   },
   "outputs": [
    {
     "name": "stdout",
     "output_type": "stream",
     "text": [
      "Looking in indexes: https://mirrors.cloud.aliyuncs.com/pypi/simple\n",
      "Requirement already satisfied: transformers==4.32.0 in /usr/local/lib/python3.10/site-packages (4.32.0)\n",
      "Requirement already satisfied: accelerate in /usr/local/lib/python3.10/site-packages (0.30.1)\n",
      "Requirement already satisfied: tiktoken in /usr/local/lib/python3.10/site-packages (0.6.0)\n",
      "Requirement already satisfied: einops in /usr/local/lib/python3.10/site-packages (0.8.0)\n",
      "Requirement already satisfied: scipy in /usr/local/lib/python3.10/site-packages (1.12.0)\n",
      "Requirement already satisfied: transformers_stream_generator==0.0.4 in /usr/local/lib/python3.10/site-packages (0.0.4)\n",
      "Requirement already satisfied: peft in /usr/local/lib/python3.10/site-packages (0.11.1)\n",
      "Requirement already satisfied: deepspeed in /usr/local/lib/python3.10/site-packages (0.14.2+5f631abc)\n",
      "Requirement already satisfied: filelock in /usr/local/lib/python3.10/site-packages (from transformers==4.32.0) (3.14.0)\n",
      "Requirement already satisfied: huggingface-hub<1.0,>=0.15.1 in /usr/local/lib/python3.10/site-packages (from transformers==4.32.0) (0.23.2)\n",
      "Requirement already satisfied: numpy>=1.17 in /usr/local/lib/python3.10/site-packages (from transformers==4.32.0) (1.26.3)\n",
      "Requirement already satisfied: packaging>=20.0 in /usr/local/lib/python3.10/site-packages (from transformers==4.32.0) (24.0)\n",
      "Requirement already satisfied: pyyaml>=5.1 in /usr/local/lib/python3.10/site-packages (from transformers==4.32.0) (6.0.1)\n",
      "Requirement already satisfied: regex!=2019.12.17 in /usr/local/lib/python3.10/site-packages (from transformers==4.32.0) (2024.5.15)\n",
      "Requirement already satisfied: requests in /usr/local/lib/python3.10/site-packages (from transformers==4.32.0) (2.32.3)\n",
      "Requirement already satisfied: tokenizers!=0.11.3,<0.14,>=0.11.1 in /usr/local/lib/python3.10/site-packages (from transformers==4.32.0) (0.13.3)\n",
      "Requirement already satisfied: safetensors>=0.3.1 in /usr/local/lib/python3.10/site-packages (from transformers==4.32.0) (0.4.3)\n",
      "Requirement already satisfied: tqdm>=4.27 in /usr/local/lib/python3.10/site-packages (from transformers==4.32.0) (4.66.4)\n",
      "Requirement already satisfied: psutil in /usr/local/lib/python3.10/site-packages (from accelerate) (5.9.8)\n",
      "Requirement already satisfied: torch>=1.10.0 in /usr/local/lib/python3.10/site-packages (from accelerate) (2.3.0+cu121)\n",
      "Requirement already satisfied: hjson in /usr/local/lib/python3.10/site-packages (from deepspeed) (3.1.0)\n",
      "Requirement already satisfied: ninja in /usr/local/lib/python3.10/site-packages (from deepspeed) (1.11.1.1)\n",
      "Requirement already satisfied: py-cpuinfo in /usr/local/lib/python3.10/site-packages (from deepspeed) (9.0.0)\n",
      "Requirement already satisfied: pydantic in /usr/local/lib/python3.10/site-packages (from deepspeed) (2.7.2)\n",
      "Requirement already satisfied: pynvml in /usr/local/lib/python3.10/site-packages (from deepspeed) (11.5.0)\n",
      "Requirement already satisfied: fsspec>=2023.5.0 in /usr/local/lib/python3.10/site-packages (from huggingface-hub<1.0,>=0.15.1->transformers==4.32.0) (2024.2.0)\n",
      "Requirement already satisfied: typing-extensions>=3.7.4.3 in /usr/local/lib/python3.10/site-packages (from huggingface-hub<1.0,>=0.15.1->transformers==4.32.0) (4.12.0)\n",
      "Requirement already satisfied: charset-normalizer<4,>=2 in /usr/local/lib/python3.10/site-packages (from requests->transformers==4.32.0) (3.3.2)\n",
      "Requirement already satisfied: idna<4,>=2.5 in /usr/local/lib/python3.10/site-packages (from requests->transformers==4.32.0) (3.7)\n",
      "Requirement already satisfied: urllib3<3,>=1.21.1 in /usr/local/lib/python3.10/site-packages (from requests->transformers==4.32.0) (2.2.1)\n",
      "Requirement already satisfied: certifi>=2017.4.17 in /usr/local/lib/python3.10/site-packages (from requests->transformers==4.32.0) (2024.2.2)\n",
      "Requirement already satisfied: sympy in /usr/local/lib/python3.10/site-packages (from torch>=1.10.0->accelerate) (1.12.1)\n",
      "Requirement already satisfied: networkx in /usr/local/lib/python3.10/site-packages (from torch>=1.10.0->accelerate) (3.3)\n",
      "Requirement already satisfied: jinja2 in /usr/local/lib/python3.10/site-packages (from torch>=1.10.0->accelerate) (3.1.4)\n",
      "Requirement already satisfied: annotated-types>=0.4.0 in /usr/local/lib/python3.10/site-packages (from pydantic->deepspeed) (0.7.0)\n",
      "Requirement already satisfied: pydantic-core==2.18.3 in /usr/local/lib/python3.10/site-packages (from pydantic->deepspeed) (2.18.3)\n",
      "Requirement already satisfied: MarkupSafe>=2.0 in /usr/local/lib/python3.10/site-packages (from jinja2->torch>=1.10.0->accelerate) (2.1.5)\n",
      "Requirement already satisfied: mpmath<1.4.0,>=1.1.0 in /usr/local/lib/python3.10/site-packages (from sympy->torch>=1.10.0->accelerate) (1.3.0)\n",
      "\u001b[33mDEPRECATION: pytorch-lightning 1.7.7 has a non-standard dependency specifier torch>=1.9.*. pip 24.1 will enforce this behaviour change. A possible replacement is to upgrade to a newer version of pytorch-lightning or contact the author to suggest that they release a version with a conforming dependency specifiers. Discussion can be found at https://github.com/pypa/pip/issues/12063\u001b[0m\u001b[33m\n",
      "\u001b[0m\u001b[33mWARNING: Running pip as the 'root' user can result in broken permissions and conflicting behaviour with the system package manager. It is recommended to use a virtual environment instead: https://pip.pypa.io/warnings/venv\u001b[0m\u001b[33m\n",
      "\u001b[0mNote: you may need to restart the kernel to use updated packages.\n"
     ]
    }
   ],
   "source": [
    "pip install transformers==4.32.0 accelerate tiktoken einops scipy transformers_stream_generator==0.0.4 peft deepspeed"
   ]
  },
  {
   "cell_type": "code",
   "execution_count": 2,
   "id": "1ced3f75",
   "metadata": {
    "ExecutionIndicator": {
     "show": true
    },
    "execution": {
     "iopub.execute_input": "2024-06-10T13:12:53.067127Z",
     "iopub.status.busy": "2024-06-10T13:12:53.066862Z",
     "iopub.status.idle": "2024-06-10T13:13:42.396060Z",
     "shell.execute_reply": "2024-06-10T13:13:42.395394Z",
     "shell.execute_reply.started": "2024-06-10T13:12:53.067108Z"
    },
    "tags": []
   },
   "outputs": [
    {
     "name": "stderr",
     "output_type": "stream",
     "text": [
      "2024-06-10 21:12:54,456 - modelscope - INFO - PyTorch version 2.3.0+cu121 Found.\n",
      "2024-06-10 21:12:54,459 - modelscope - INFO - TensorFlow version 2.16.1 Found.\n",
      "2024-06-10 21:12:54,459 - modelscope - INFO - Loading ast index from /mnt/workspace/.cache/modelscope/ast_indexer\n",
      "2024-06-10 21:12:54,489 - modelscope - INFO - Loading done! Current index file version is 1.15.0, with md5 03830e53bae2c0a8f8ac72c969ac6ac1 and a total number of 980 components indexed\n",
      "/usr/local/lib/python3.10/site-packages/tqdm/auto.py:21: TqdmWarning: IProgress not found. Please update jupyter and ipywidgets. See https://ipywidgets.readthedocs.io/en/stable/user_install.html\n",
      "  from .autonotebook import tqdm as notebook_tqdm\n",
      "/usr/local/lib/python3.10/site-packages/transformers/utils/generic.py:260: UserWarning: torch.utils._pytree._register_pytree_node is deprecated. Please use torch.utils._pytree.register_pytree_node instead.\n",
      "  torch.utils._pytree._register_pytree_node(\n",
      "2024-06-10 21:12:55.939883: I tensorflow/core/util/port.cc:113] oneDNN custom operations are on. You may see slightly different numerical results due to floating-point round-off errors from different computation orders. To turn them off, set the environment variable `TF_ENABLE_ONEDNN_OPTS=0`.\n",
      "2024-06-10 21:12:55.981379: I tensorflow/core/platform/cpu_feature_guard.cc:210] This TensorFlow binary is optimized to use available CPU instructions in performance-critical operations.\n",
      "To enable the following instructions: AVX2 AVX512F AVX512_VNNI FMA, in other operations, rebuild TensorFlow with the appropriate compiler flags.\n",
      "2024-06-10 21:12:56.838757: W tensorflow/compiler/tf2tensorrt/utils/py_utils.cc:38] TF-TRT Warning: Could not find TensorRT\n",
      "2024-06-10 21:12:57,561 - modelscope - WARNING - Model revision not specified, use revision: v1.1.9\n",
      "2024-06-10 21:12:58,830 - modelscope - WARNING - Model revision not specified, use revision: v1.1.9\n",
      "The model is automatically converting to bf16 for faster inference. If you want to disable the automatic precision, please manually add bf16/fp16/fp32=True to \"AutoModelForCausalLM.from_pretrained\".\n",
      "Try importing flash-attention for faster inference...\n",
      "Warning: import flash_attn rms_norm fail, please install FlashAttention layer_norm to get higher efficiency https://github.com/Dao-AILab/flash-attention/tree/main/csrc/layer_norm\n",
      "Loading checkpoint shards: 100%|██████████| 8/8 [00:35<00:00,  4.50s/it]\n"
     ]
    },
    {
     "name": "stdout",
     "output_type": "stream",
     "text": [
      "你好！有什么我可以帮助你的吗？\n"
     ]
    }
   ],
   "source": [
    "from modelscope import AutoModelForCausalLM, AutoTokenizer\n",
    "from modelscope import GenerationConfig\n",
    "\n",
    "# Note: The default behavior now has injection attack prevention off.\n",
    "tokenizer = AutoTokenizer.from_pretrained(\"qwen/Qwen-7B-Chat\", trust_remote_code=True)\n",
    "\n",
    "# use bf16\n",
    "# model = AutoModelForCausalLM.from_pretrained(\"qwen/Qwen-7B-Chat\", device_map=\"auto\", trust_remote_code=True, bf16=True).eval()\n",
    "# use fp16\n",
    "# model = AutoModelForCausalLM.from_pretrained(\"qwen/Qwen-7B-Chat\", device_map=\"auto\", trust_remote_code=True, fp16=True).eval()\n",
    "# use cpu only\n",
    "# model = AutoModelForCausalLM.from_pretrained(\"qwen/Qwen-7B-Chat\", device_map=\"cpu\", trust_remote_code=True).eval()\n",
    "# use auto mode, automatically select precision based on the device.\n",
    "model = AutoModelForCausalLM.from_pretrained(\"qwen/Qwen-7B-Chat\", device_map=\"cuda:0\",trust_remote_code=True).eval()\n",
    "\n",
    "# Specify hyperparameters for generation. But if you use transformers>=4.32.0, there is no need to do this.\n",
    "# model.generation_config = GenerationConfig.from_pretrained(\"Qwen/Qwen-7B-Chat\", trust_remote_code=True) # 可指定不同的生成长度、top_p等相关超参\n",
    "\n",
    "# 第一轮对话 1st dialogue turn\n",
    "response, history = model.chat(tokenizer, \"你好\", history=None)\n",
    "print(response)"
   ]
  },
  {
   "cell_type": "code",
   "execution_count": 3,
   "id": "f8c818da-d70e-43ba-9fd8-4ec007d28a98",
   "metadata": {
    "execution": {
     "iopub.execute_input": "2024-06-10T13:13:42.399204Z",
     "iopub.status.busy": "2024-06-10T13:13:42.398773Z",
     "iopub.status.idle": "2024-06-10T13:13:45.272148Z",
     "shell.execute_reply": "2024-06-10T13:13:45.271551Z",
     "shell.execute_reply.started": "2024-06-10T13:13:42.399184Z"
    }
   },
   "outputs": [
    {
     "name": "stdout",
     "output_type": "stream",
     "text": [
      "这两句话的意思是相同的，即建议在寒冷的冬天或多风多雨的天气里，尽量多穿衣服以保暖。但是它们使用的表达方式不同，第一句话使用了“能穿多少穿多少”的表述方式，而第二句话则没有使用这种表述方式。此外，“冬天”和“夏天”也表明了这句话适用于不同的季节。\n"
     ]
    }
   ],
   "source": [
    "response, history = model.chat(tokenizer, \"请说出以下两句话区别在哪里？ 1、冬天：能穿多少穿多少 2、夏天：能穿多少穿多少\", history=history)\n",
    "print(response)"
   ]
  },
  {
   "cell_type": "code",
   "execution_count": 4,
   "id": "8529aee4-fd8b-4623-aeb4-c6fec3caf6b9",
   "metadata": {
    "execution": {
     "iopub.execute_input": "2024-06-10T13:13:45.273706Z",
     "iopub.status.busy": "2024-06-10T13:13:45.273451Z",
     "iopub.status.idle": "2024-06-10T13:13:47.162052Z",
     "shell.execute_reply": "2024-06-10T13:13:47.161386Z",
     "shell.execute_reply.started": "2024-06-10T13:13:45.273686Z"
    }
   },
   "outputs": [
    {
     "name": "stdout",
     "output_type": "stream",
     "text": [
      "这两句话的含义不同。第一个句子表明单身狗产生的原因可能是因为他们认为没有人看得上自己；第二个句子则表明单身狗产生的原因是他们认为没有人愿意与他们交往。因此，这两个句子涉及的原因和情况也有所不同。\n"
     ]
    }
   ],
   "source": [
    "response, history = model.chat(tokenizer, \"请说出以下两句话区别在哪里？单身狗产生的原因有两个，一是谁都看不上，二是谁都看不上\", history=history)\n",
    "print(response)"
   ]
  },
  {
   "cell_type": "code",
   "execution_count": 5,
   "id": "75205a62-dfdb-43c4-bc09-c61c67073972",
   "metadata": {
    "execution": {
     "iopub.execute_input": "2024-06-10T13:13:47.162975Z",
     "iopub.status.busy": "2024-06-10T13:13:47.162743Z",
     "iopub.status.idle": "2024-06-10T13:13:51.073864Z",
     "shell.execute_reply": "2024-06-10T13:13:51.073342Z",
     "shell.execute_reply.started": "2024-06-10T13:13:47.162958Z"
    }
   },
   "outputs": [
    {
     "name": "stdout",
     "output_type": "stream",
     "text": [
      "这句话里有三层信息。首先，我们知道“他”知道“你知道他不知道”，这表示“他”知道有人知道自己不知道某些事情。其次，“他”也知道“你知道他不知道”，这意味着“他”也知道“你”知道他不知道的事情。最后，“你知道他知道他知道”说明“你”知道“他”知道“你知道他不知道”的情况。所以，从这个句子中我们可以得出结论，只有“他知道他知道他知道”这一层是明确的，其余都是推断出来的。\n"
     ]
    }
   ],
   "source": [
    "response, history = model.chat(tokenizer, \"他知道我知道你知道他不知道吗？ 这句话里，到底谁不知道\", history=history)\n",
    "print(response)"
   ]
  },
  {
   "cell_type": "code",
   "execution_count": 6,
   "id": "8a5ffbe5-d860-4456-a18c-95b4ad00fe61",
   "metadata": {
    "execution": {
     "iopub.execute_input": "2024-06-10T13:13:51.074883Z",
     "iopub.status.busy": "2024-06-10T13:13:51.074633Z",
     "iopub.status.idle": "2024-06-10T13:13:52.756208Z",
     "shell.execute_reply": "2024-06-10T13:13:52.755685Z",
     "shell.execute_reply.started": "2024-06-10T13:13:51.074865Z"
    }
   },
   "outputs": [
    {
     "name": "stdout",
     "output_type": "stream",
     "text": [
      "根据这句话的描述，可以确定的是“明明”喜欢“他”。但是“白白”是否喜欢“他”并未提及，因此我们无法确定“白白”是否喜欢“他”。\n"
     ]
    }
   ],
   "source": [
    "response, history = model.chat(tokenizer, \"明明明明明白白白喜欢他，可她就是不说。 这句话里，明明和白白谁喜欢谁？\", history=history)\n",
    "print(response)"
   ]
  },
  {
   "cell_type": "code",
   "execution_count": 7,
   "id": "1858584c-c498-453f-a794-8af16828a368",
   "metadata": {
    "execution": {
     "iopub.execute_input": "2024-06-10T13:13:52.757223Z",
     "iopub.status.busy": "2024-06-10T13:13:52.756963Z",
     "iopub.status.idle": "2024-06-10T13:13:58.416417Z",
     "shell.execute_reply": "2024-06-10T13:13:58.415878Z",
     "shell.execute_reply.started": "2024-06-10T13:13:52.757205Z"
    },
    "tags": []
   },
   "outputs": [
    {
     "name": "stdout",
     "output_type": "stream",
     "text": [
      "根据这段对话，可以分析出以下几个意思：\n",
      "\n",
      "1. “你这是什么意思？”：意思是询问对方的想法或意图。\n",
      "2. “没什么意思。”：意思是并没有特别的意思。\n",
      "3. “意思意思。”：意思是表达自己的感受或想法，并非有意让人误解。\n",
      "4. “小意思，小意思。”：意思是不必在意，只是客气的话而已。\n",
      "5. “你这人真有意思。”：意思是形容对方很有趣。\n",
      "6. “其实也没有别的意思。”：意思是没有什么其他的打算或想法。\n",
      "7. “那我就不好意思了。”：意思是觉得不太合适或有点尴尬。\n",
      "8. “是我不好意思。”：意思是自己应该感到抱歉。\n",
      "\n",
      "以上就是这些话语中的意思。\n"
     ]
    }
   ],
   "source": [
    "response, history = model.chat(tokenizer, \"领导：你这是什么意思？ 小明：没什么意思。意思意思。 领导：你这就不够意思了。 小明：小意思，小意思。领导：你这人真有意思。 小明：其实也没有别的意思。 领导：那我就不好意思了。 小明：是我不好意思。请问：以上“意思”分别是什么意思。\", history=history)\n",
    "print(response)"
   ]
  }
 ],
 "metadata": {
  "kernelspec": {
   "display_name": "Python 3 (ipykernel)",
   "language": "python",
   "name": "python3"
  },
  "language_info": {
   "codemirror_mode": {
    "name": "ipython",
    "version": 3
   },
   "file_extension": ".py",
   "mimetype": "text/x-python",
   "name": "python",
   "nbconvert_exporter": "python",
   "pygments_lexer": "ipython3",
   "version": "3.10.14"
  }
 },
 "nbformat": 4,
 "nbformat_minor": 5
}
