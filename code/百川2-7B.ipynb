{
 "cells": [
  {
   "cell_type": "code",
   "execution_count": 1,
   "id": "af8b9022",
   "metadata": {
    "ExecutionIndicator": {
     "show": true
    },
    "execution": {
     "iopub.execute_input": "2024-06-10T09:07:23.930143Z",
     "iopub.status.busy": "2024-06-10T09:07:23.929986Z",
     "iopub.status.idle": "2024-06-10T09:07:41.480383Z",
     "shell.execute_reply": "2024-06-10T09:07:41.479469Z",
     "shell.execute_reply.started": "2024-06-10T09:07:23.930126Z"
    },
    "tags": []
   },
   "outputs": [
    {
     "name": "stderr",
     "output_type": "stream",
     "text": [
      "2024-06-10 17:07:25,409 - modelscope - INFO - PyTorch version 2.3.0+cu121 Found.\n",
      "2024-06-10 17:07:25,411 - modelscope - INFO - TensorFlow version 2.16.1 Found.\n",
      "2024-06-10 17:07:25,412 - modelscope - INFO - Loading ast index from /mnt/workspace/.cache/modelscope/ast_indexer\n",
      "2024-06-10 17:07:25,457 - modelscope - INFO - Loading done! Current index file version is 1.15.0, with md5 03830e53bae2c0a8f8ac72c969ac6ac1 and a total number of 980 components indexed\n",
      "/usr/local/lib/python3.10/site-packages/tqdm/auto.py:21: TqdmWarning: IProgress not found. Please update jupyter and ipywidgets. See https://ipywidgets.readthedocs.io/en/stable/user_install.html\n",
      "  from .autonotebook import tqdm as notebook_tqdm\n",
      "2024-06-10 17:07:27.065450: I tensorflow/core/util/port.cc:113] oneDNN custom operations are on. You may see slightly different numerical results due to floating-point round-off errors from different computation orders. To turn them off, set the environment variable `TF_ENABLE_ONEDNN_OPTS=0`.\n",
      "2024-06-10 17:07:27.110650: I tensorflow/core/platform/cpu_feature_guard.cc:210] This TensorFlow binary is optimized to use available CPU instructions in performance-critical operations.\n",
      "To enable the following instructions: AVX2 AVX512F AVX512_VNNI FMA, in other operations, rebuild TensorFlow with the appropriate compiler flags.\n",
      "2024-06-10 17:07:27.912424: W tensorflow/compiler/tf2tensorrt/utils/py_utils.cc:38] TF-TRT Warning: Could not find TensorRT\n",
      "2024-06-10 17:07:28,931 - modelscope - INFO - Use user-specified model revision: v1.0.5\n",
      "/usr/local/lib/python3.10/site-packages/torch/backends/cuda/__init__.py:342: FutureWarning: torch.backends.cuda.sdp_kernel() is deprecated. In the future, this context manager will be removed. Please see, torch.nn.attention.sdpa_kernel() for the new context manager, with updated signature.\n",
      "  warnings.warn(\n"
     ]
    },
    {
     "name": "stdout",
     "output_type": "stream",
     "text": [
      "你好今天我能为您提供什么帮助？\n"
     ]
    }
   ],
   "source": [
    "import torch\n",
    "from modelscope import snapshot_download, AutoModelForCausalLM, AutoTokenizer,GenerationConfig\n",
    "model_dir = snapshot_download(\"baichuan-inc/Baichuan2-7B-Chat\", revision='v1.0.5')\n",
    "tokenizer = AutoTokenizer.from_pretrained(model_dir, device_map=\"auto\", \n",
    "                              trust_remote_code=True, torch_dtype=torch.float16)\n",
    "model = AutoModelForCausalLM.from_pretrained(model_dir, device_map=\"auto\", \n",
    "                              trust_remote_code=True, torch_dtype=torch.float16)\n",
    "model.generation_config = GenerationConfig.from_pretrained(model_dir)\n",
    "messages = []\n",
    "messages.append({\"role\": \"user\", \"content\": \"你好\"})\n",
    "response = model.chat(tokenizer, messages)\n",
    "print(response)"
   ]
  },
  {
   "cell_type": "code",
   "execution_count": 2,
   "id": "53ddedb2-4d2b-41df-99d7-454d34871362",
   "metadata": {
    "execution": {
     "iopub.execute_input": "2024-06-10T09:07:41.482095Z",
     "iopub.status.busy": "2024-06-10T09:07:41.481520Z",
     "iopub.status.idle": "2024-06-10T09:07:46.700308Z",
     "shell.execute_reply": "2024-06-10T09:07:46.699626Z",
     "shell.execute_reply.started": "2024-06-10T09:07:41.482071Z"
    }
   },
   "outputs": [
    {
     "name": "stdout",
     "output_type": "stream",
     "text": [
      "这两句话的区别在于所描述的季节和穿衣建议。\n",
      "\n",
      "1. “冬天：能穿多少穿多少”这句话强调的是在冬天，人们应该根据自己的舒适度来穿衣服，尽量穿更多的衣物来保暖。这可能包括穿厚衣服、围巾、帽子等。\n",
      "\n",
      "2. “夏天：能穿多少穿多少”这句话在夏天提到的穿衣建议与冬天类似，即人们也应该根据自己的舒适度来穿衣服，尽量穿更多的衣物来散热。这可能包括穿薄衣服、短裤、凉鞋等。\n",
      "\n",
      "总的来说，这两句话的主要区别在于所描述的季节以及相应的穿衣建议。在冬天，建议穿更多的衣物来保暖；而在夏天，建议穿更多的衣物来散热。\n"
     ]
    }
   ],
   "source": [
    "messages.append({'role': 'assistant', 'content': response})\n",
    "messages.append({\"role\": \"user\", \"content\": \"请说出以下两句话区别在哪里？ 1、冬天：能穿多少穿多少 2、夏天：能穿多少穿多少\"})\n",
    "response = model.chat(tokenizer, messages)\n",
    "print(response)"
   ]
  },
  {
   "cell_type": "code",
   "execution_count": 3,
   "id": "beaf503e-054f-4e9b-afe8-a5de410cc3b5",
   "metadata": {
    "execution": {
     "iopub.execute_input": "2024-06-10T09:07:46.701633Z",
     "iopub.status.busy": "2024-06-10T09:07:46.701268Z",
     "iopub.status.idle": "2024-06-10T09:07:51.601818Z",
     "shell.execute_reply": "2024-06-10T09:07:51.601041Z",
     "shell.execute_reply.started": "2024-06-10T09:07:46.701602Z"
    }
   },
   "outputs": [
    {
     "name": "stdout",
     "output_type": "stream",
     "text": [
      "这两句话的区别在于它们所表达的含义。\n",
      "\n",
      "1. “单身狗产生的原因有两个，一是谁都看不上”这句话表达的是单身狗产生的一个原因，即个人对恋爱或伴侣的要求过高，导致无法找到合适的伴侣，从而成为单身狗。\n",
      "\n",
      "2. “二是谁都看不上”这句话似乎是在解释为什么第一个原因会导致单身狗，但这句话本身并没有明确的意义，可能是表达者的一种幽默或者自嘲。\n",
      "\n",
      "总的来说，这两句话的主要区别在于它们的含义和表达方式。第一句话明确地表达了单身狗产生的一个原因，而第二句话则可能是一种模糊或者幽默的表达。\n"
     ]
    }
   ],
   "source": [
    "messages.append({'role': 'assistant', 'content': response})\n",
    "messages.append({\"role\": \"user\", \"content\": \"请说出以下两句话区别在哪里？单身狗产生的原因有两个，一是谁都看不上，二是谁都看不上\"})\n",
    "response = model.chat(tokenizer, messages)\n",
    "print(response)"
   ]
  },
  {
   "cell_type": "code",
   "execution_count": 4,
   "id": "c23f1092-35bf-4306-a060-4b5beab75ec1",
   "metadata": {
    "execution": {
     "iopub.execute_input": "2024-06-10T09:07:51.603727Z",
     "iopub.status.busy": "2024-06-10T09:07:51.603373Z",
     "iopub.status.idle": "2024-06-10T09:07:56.797516Z",
     "shell.execute_reply": "2024-06-10T09:07:56.796969Z",
     "shell.execute_reply.started": "2024-06-10T09:07:51.603706Z"
    }
   },
   "outputs": [
    {
     "name": "stdout",
     "output_type": "stream",
     "text": [
      "这句话是一个经典的谜语，实际上它是在测试我们的逻辑推理能力。\"他知道我知道你知道他不知道吗？\" 这句话里，实际上没有人不知道任何事情。\n",
      "\n",
      "首先，\"他\"是指某个人或者事物，但是这个人或事物本身并不知道任何事情。\n",
      "\n",
      "然后，\"知道\"这个词有两种理解方式，一种是实际知道，另一种是知道别人知道。如果从第一种理解方式来看，那么没有人真正知道任何事情。如果从第二种理解方式来看，那么只有知道别人知道的人才知道这个人或事物不知道什么事情。\n",
      "\n",
      "所以，这句话实际上是在测试我们如何理解\"知道\"这个词，以及如何推理出结果。\n"
     ]
    }
   ],
   "source": [
    "messages.append({'role': 'assistant', 'content': response})\n",
    "messages.append({\"role\": \"user\", \"content\": \"他知道我知道你知道他不知道吗？ 这句话里，到底谁不知道\"})\n",
    "response = model.chat(tokenizer, messages)\n",
    "print(response)"
   ]
  },
  {
   "cell_type": "code",
   "execution_count": 5,
   "id": "ef38e50a-142a-4dab-b67c-aa01026a5af2",
   "metadata": {
    "execution": {
     "iopub.execute_input": "2024-06-10T09:07:56.798507Z",
     "iopub.status.busy": "2024-06-10T09:07:56.798272Z",
     "iopub.status.idle": "2024-06-10T09:08:04.569904Z",
     "shell.execute_reply": "2024-06-10T09:08:04.569283Z",
     "shell.execute_reply.started": "2024-06-10T09:07:56.798490Z"
    }
   },
   "outputs": [
    {
     "name": "stdout",
     "output_type": "stream",
     "text": [
      "这句话是一个谜语，它的意思是“明明明白白白喜欢他，可她就是不说”。在这个谜语中，我们需要找出谁是明明，谁是白白，以及谁喜欢谁。\n",
      "\n",
      "根据谜语的描述，我们可以得出以下信息：\n",
      "\n",
      "1. 明明和白白都是人名。\n",
      "2. 明明明白白白喜欢他（指某个特定的人或事物）。\n",
      "3. 可她就是不说。\n",
      "\n",
      "然而，这个谜语并没有提供足够的信息来确定谁是明明，谁是白白，以及谁喜欢谁。这需要我们根据谜语的描述进行推理。\n",
      "\n",
      "如果我们将“他”理解为一个人，那么可能是明明喜欢白白，也可能是白白喜欢明明，或者是两个人都喜欢对方。如果我们将“他”理解为某个事物，那么可能是明明喜欢白白，也可能是白白喜欢明明，或者是两个人都喜欢这个事物。\n",
      "\n",
      "因此，这个谜语并没有一个确定的答案，需要我们根据谜语的描述进行推理。\n"
     ]
    }
   ],
   "source": [
    "messages.append({'role': 'assistant', 'content': response})\n",
    "messages.append({\"role\": \"user\", \"content\": \"明明明明明白白白喜欢他，可她就是不说。 这句话里，明明和白白谁喜欢谁？\"})\n",
    "response = model.chat(tokenizer, messages)\n",
    "print(response)"
   ]
  },
  {
   "cell_type": "code",
   "execution_count": 6,
   "id": "b5b17405-5c7f-40f7-878a-d59f9f785f5c",
   "metadata": {
    "execution": {
     "iopub.execute_input": "2024-06-10T09:08:04.571204Z",
     "iopub.status.busy": "2024-06-10T09:08:04.570881Z",
     "iopub.status.idle": "2024-06-10T09:08:12.680401Z",
     "shell.execute_reply": "2024-06-10T09:08:12.679732Z",
     "shell.execute_reply.started": "2024-06-10T09:08:04.571181Z"
    },
    "tags": []
   },
   "outputs": [
    {
     "name": "stdout",
     "output_type": "stream",
     "text": [
      "这段话中，\"意思\"这个词在不同的句子中有不同的理解：\n",
      "\n",
      "1. \"你这是什么意思？\" 这个句子中，\"意思\"表示的是某种行为或言语的意图或目的。小明回答\"没什么意思\"，意味着他的行为或言语没有特定的意图或目的。\n",
      "\n",
      "2. \"你这就不够意思了\"，这里的\"意思\"是一种贬义，表示小明的行为或言语不够真诚，不够朋友。\n",
      "\n",
      "3. \"你这人真有意思\"，这里的\"意思\"是一种褒义，表示领导觉得小明这个人很有趣，很有个性。\n",
      "\n",
      "4. \"其实也没有别的意思\"，这里的\"意思\"再次表示没有特定的意图或目的。\n",
      "\n",
      "5. \"那我就不好意思了\"，这里的\"意思\"是一种礼貌的表达，表示领导愿意接受小明的道歉。\n",
      "\n",
      "6. \"是我不好意思\"，这里的\"意思\"是一种自我承认的道歉，表示小明承认自己的过错。\n"
     ]
    }
   ],
   "source": [
    "messages.append({'role': 'assistant', 'content': response})\n",
    "messages.append({\"role\": \"user\", \"content\": \"领导：你这是什么意思？ 小明：没什么意思。意思意思。 领导：你这就不够意思了。 小明：小意思，小意思。领导：你这人真有意思。 小明：其实也没有别的意思。 领导：那我就不好意思了。 小明：是我不好意思。请问：以上“意思”分别是什么意思。\"})\n",
    "response = model.chat(tokenizer, messages)\n",
    "print(response)"
   ]
  }
 ],
 "metadata": {
  "kernelspec": {
   "display_name": "Python 3 (ipykernel)",
   "language": "python",
   "name": "python3"
  },
  "language_info": {
   "codemirror_mode": {
    "name": "ipython",
    "version": 3
   },
   "file_extension": ".py",
   "mimetype": "text/x-python",
   "name": "python",
   "nbconvert_exporter": "python",
   "pygments_lexer": "ipython3",
   "version": "3.10.14"
  }
 },
 "nbformat": 4,
 "nbformat_minor": 5
}
