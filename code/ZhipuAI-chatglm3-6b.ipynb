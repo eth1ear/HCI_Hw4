{
 "cells": [
  {
   "cell_type": "code",
   "execution_count": null,
   "id": "c60a8ae3",
   "metadata": {
    "execution": {
     "iopub.execute_input": "2024-06-10T08:30:09.042143Z",
     "iopub.status.busy": "2024-06-10T08:30:09.041746Z"
    },
    "tags": []
   },
   "outputs": [
    {
     "name": "stdout",
     "output_type": "stream",
     "text": [
      "Looking in indexes: https://mirrors.cloud.aliyuncs.com/pypi/simple\n",
      "Requirement already satisfied: protobuf in /usr/local/lib/python3.10/site-packages (3.20.3)\n",
      "Requirement already satisfied: transformers>=4.30.2 in /usr/local/lib/python3.10/site-packages (4.41.2)\n",
      "Collecting cpm_kernels\n",
      "  Downloading https://mirrors.cloud.aliyuncs.com/pypi/packages/af/84/1831ce6ffa87b8fd4d9673c3595d0fc4e6631c0691eb43f406d3bf89b951/cpm_kernels-1.0.11-py3-none-any.whl (416 kB)\n",
      "\u001b[2K     \u001b[90m━━━━━━━━━━━━━━━━━━━━━━━━━━━━━━━━━━━━━━\u001b[0m \u001b[32m416.6/416.6 kB\u001b[0m \u001b[31m19.6 MB/s\u001b[0m eta \u001b[36m0:00:00\u001b[0m\n",
      "\u001b[?25hRequirement already satisfied: torch>=2.0 in /usr/local/lib/python3.10/site-packages (2.3.0+cu121)\n",
      "Collecting gradio\n",
      "  Downloading https://mirrors.cloud.aliyuncs.com/pypi/packages/78/99/5d6f18958ee8f82b9bf858232cd48fc98a571a9cace053ea01198d8cefc1/gradio-4.36.1-py3-none-any.whl (12.3 MB)\n",
      "\u001b[2K     \u001b[90m━━━━━━━━━━━━━━━━━━━━━━━━━━━━━━━━━━━━━━━━\u001b[0m \u001b[32m12.3/12.3 MB\u001b[0m \u001b[31m89.1 MB/s\u001b[0m eta \u001b[36m0:00:00\u001b[0m00:01\u001b[0m00:01\u001b[0m\n",
      "\u001b[?25hCollecting mdtex2html\n",
      "  Downloading https://mirrors.cloud.aliyuncs.com/pypi/packages/ff/e8/c5fab9aa5d9254ad7c7e37d33a3c32fd49d82b4c6b54da337bbca378eb5c/mdtex2html-1.3.0-py3-none-any.whl (13 kB)\n",
      "Requirement already satisfied: sentencepiece in /usr/local/lib/python3.10/site-packages (0.2.0)\n",
      "Requirement already satisfied: accelerate in /usr/local/lib/python3.10/site-packages (0.30.1)\n",
      "Requirement already satisfied: filelock in /usr/local/lib/python3.10/site-packages (from transformers>=4.30.2) (3.14.0)\n",
      "Requirement already satisfied: huggingface-hub<1.0,>=0.23.0 in /usr/local/lib/python3.10/site-packages (from transformers>=4.30.2) (0.23.2)\n",
      "Requirement already satisfied: numpy>=1.17 in /usr/local/lib/python3.10/site-packages (from transformers>=4.30.2) (1.26.3)\n",
      "Requirement already satisfied: packaging>=20.0 in /usr/local/lib/python3.10/site-packages (from transformers>=4.30.2) (24.0)\n",
      "Requirement already satisfied: pyyaml>=5.1 in /usr/local/lib/python3.10/site-packages (from transformers>=4.30.2) (6.0.1)\n",
      "Requirement already satisfied: regex!=2019.12.17 in /usr/local/lib/python3.10/site-packages (from transformers>=4.30.2) (2024.5.15)\n",
      "Requirement already satisfied: requests in /usr/local/lib/python3.10/site-packages (from transformers>=4.30.2) (2.32.3)\n",
      "Requirement already satisfied: tokenizers<0.20,>=0.19 in /usr/local/lib/python3.10/site-packages (from transformers>=4.30.2) (0.19.1)\n",
      "Requirement already satisfied: safetensors>=0.4.1 in /usr/local/lib/python3.10/site-packages (from transformers>=4.30.2) (0.4.3)\n",
      "Requirement already satisfied: tqdm>=4.27 in /usr/local/lib/python3.10/site-packages (from transformers>=4.30.2) (4.66.4)\n",
      "Requirement already satisfied: typing-extensions>=4.8.0 in /usr/local/lib/python3.10/site-packages (from torch>=2.0) (4.12.0)\n",
      "Requirement already satisfied: sympy in /usr/local/lib/python3.10/site-packages (from torch>=2.0) (1.12.1)\n",
      "Requirement already satisfied: networkx in /usr/local/lib/python3.10/site-packages (from torch>=2.0) (3.3)\n",
      "Requirement already satisfied: jinja2 in /usr/local/lib/python3.10/site-packages (from torch>=2.0) (3.1.4)\n",
      "Requirement already satisfied: fsspec in /usr/local/lib/python3.10/site-packages (from torch>=2.0) (2024.2.0)\n",
      "Collecting aiofiles<24.0,>=22.0 (from gradio)\n",
      "  Downloading https://mirrors.cloud.aliyuncs.com/pypi/packages/c5/19/5af6804c4cc0fed83f47bff6e413a98a36618e7d40185cd36e69737f3b0e/aiofiles-23.2.1-py3-none-any.whl (15 kB)\n",
      "Collecting altair<6.0,>=4.2.0 (from gradio)\n",
      "  Downloading https://mirrors.cloud.aliyuncs.com/pypi/packages/46/30/2118537233fa72c1d91a81f5908a7e843a6601ccc68b76838ebc4951505f/altair-5.3.0-py3-none-any.whl (857 kB)\n",
      "\u001b[2K     \u001b[90m━━━━━━━━━━━━━━━━━━━━━━━━━━━━━━━━━━━━━━\u001b[0m \u001b[32m857.8/857.8 kB\u001b[0m \u001b[31m55.2 MB/s\u001b[0m eta \u001b[36m0:00:00\u001b[0m\n",
      "\u001b[?25hRequirement already satisfied: fastapi in /usr/local/lib/python3.10/site-packages (from gradio) (0.111.0)\n",
      "Collecting ffmpy (from gradio)\n",
      "  Downloading https://mirrors.cloud.aliyuncs.com/pypi/packages/1d/70/07914754979f5dd80bda947a0ffd181c08bfcb137b01c3c0cef45254d271/ffmpy-0.3.2.tar.gz (5.5 kB)\n",
      "  Preparing metadata (setup.py) ... \u001b[?25ldone\n",
      "\u001b[?25hCollecting gradio-client==1.0.1 (from gradio)\n",
      "  Downloading https://mirrors.cloud.aliyuncs.com/pypi/packages/d5/d5/ee0814f51f81c8120495fd82a25aaeac4259058a3a61849bd7e575894fe1/gradio_client-1.0.1-py3-none-any.whl (318 kB)\n",
      "\u001b[2K     \u001b[90m━━━━━━━━━━━━━━━━━━━━━━━━━━━━━━━━━━━━━━\u001b[0m \u001b[32m318.1/318.1 kB\u001b[0m \u001b[31m35.6 MB/s\u001b[0m eta \u001b[36m0:00:00\u001b[0m\n",
      "\u001b[?25hRequirement already satisfied: httpx>=0.24.1 in /usr/local/lib/python3.10/site-packages (from gradio) (0.27.0)\n",
      "Collecting importlib-resources<7.0,>=1.3 (from gradio)\n",
      "  Downloading https://mirrors.cloud.aliyuncs.com/pypi/packages/75/06/4df55e1b7b112d183f65db9503bff189e97179b256e1ea450a3c365241e0/importlib_resources-6.4.0-py3-none-any.whl (38 kB)\n",
      "Requirement already satisfied: markupsafe~=2.0 in /usr/local/lib/python3.10/site-packages (from gradio) (2.1.5)\n",
      "Requirement already satisfied: matplotlib~=3.0 in /usr/local/lib/python3.10/site-packages (from gradio) (3.5.3)\n",
      "Requirement already satisfied: orjson~=3.0 in /usr/local/lib/python3.10/site-packages (from gradio) (3.10.3)\n",
      "Requirement already satisfied: pandas<3.0,>=1.0 in /usr/local/lib/python3.10/site-packages (from gradio) (2.2.2)\n",
      "Requirement already satisfied: pillow<11.0,>=8.0 in /usr/local/lib/python3.10/site-packages (from gradio) (10.2.0)\n",
      "Requirement already satisfied: pydantic>=2.0 in /usr/local/lib/python3.10/site-packages (from gradio) (2.7.2)\n",
      "Collecting pydub (from gradio)\n",
      "  Downloading https://mirrors.cloud.aliyuncs.com/pypi/packages/a6/53/d78dc063216e62fc55f6b2eebb447f6a4b0a59f55c8406376f76bf959b08/pydub-0.25.1-py2.py3-none-any.whl (32 kB)\n",
      "Requirement already satisfied: python-multipart>=0.0.9 in /usr/local/lib/python3.10/site-packages (from gradio) (0.0.9)\n",
      "Collecting ruff>=0.2.2 (from gradio)\n",
      "  Downloading https://mirrors.cloud.aliyuncs.com/pypi/packages/21/77/9d9c536d8544d8b1b2fe1fcd5e3e190b946d91dc00a8956aa5fe88cb264b/ruff-0.4.8-py3-none-manylinux_2_17_x86_64.manylinux2014_x86_64.whl (8.8 MB)\n",
      "\u001b[2K     \u001b[90m━━━━━━━━━━━━━━━━━━━━━━━━━━━━━━━━━━━━━━━━\u001b[0m \u001b[32m8.8/8.8 MB\u001b[0m \u001b[31m81.0 MB/s\u001b[0m eta \u001b[36m0:00:00\u001b[0m:00:01\u001b[0m0:01\u001b[0m\n",
      "\u001b[?25hCollecting semantic-version~=2.0 (from gradio)\n",
      "  Downloading https://mirrors.cloud.aliyuncs.com/pypi/packages/6a/23/8146aad7d88f4fcb3a6218f41a60f6c2d4e3a72de72da1825dc7c8f7877c/semantic_version-2.10.0-py2.py3-none-any.whl (15 kB)\n",
      "Collecting tomlkit==0.12.0 (from gradio)\n",
      "  Downloading https://mirrors.cloud.aliyuncs.com/pypi/packages/68/4f/12207897848a653d03ebbf6775a29d949408ded5f99b2d87198bc5c93508/tomlkit-0.12.0-py3-none-any.whl (37 kB)\n",
      "Requirement already satisfied: typer<1.0,>=0.12 in /usr/local/lib/python3.10/site-packages (from gradio) (0.12.3)\n",
      "Requirement already satisfied: urllib3~=2.0 in /usr/local/lib/python3.10/site-packages (from gradio) (2.2.1)\n",
      "Requirement already satisfied: uvicorn>=0.14.0 in /usr/local/lib/python3.10/site-packages (from gradio) (0.30.0)\n",
      "Collecting websockets<12.0,>=10.0 (from gradio-client==1.0.1->gradio)\n",
      "  Downloading https://mirrors.cloud.aliyuncs.com/pypi/packages/58/0a/7570e15661a0a546c3a1152d95fe8c05480459bab36247f0acbf41f01a41/websockets-11.0.3-cp310-cp310-manylinux_2_5_x86_64.manylinux1_x86_64.manylinux_2_17_x86_64.manylinux2014_x86_64.whl (129 kB)\n",
      "\u001b[2K     \u001b[90m━━━━━━━━━━━━━━━━━━━━━━━━━━━━━━━━━━━━━━\u001b[0m \u001b[32m129.9/129.9 kB\u001b[0m \u001b[31m32.2 MB/s\u001b[0m eta \u001b[36m0:00:00\u001b[0m\n",
      "\u001b[?25hRequirement already satisfied: markdown in /usr/local/lib/python3.10/site-packages (from mdtex2html) (3.6)\n",
      "Collecting latex2mathml (from mdtex2html)\n",
      "  Downloading https://mirrors.cloud.aliyuncs.com/pypi/packages/f2/0a/181ed55562ce90179aedf33b09fcd79db31c868a5d480f3cb71a31d19692/latex2mathml-3.77.0-py3-none-any.whl (73 kB)\n",
      "\u001b[2K     \u001b[90m━━━━━━━━━━━━━━━━━━━━━━━━━━━━━━━━━━━━━━━━\u001b[0m \u001b[32m73.7/73.7 kB\u001b[0m \u001b[31m16.1 MB/s\u001b[0m eta \u001b[36m0:00:00\u001b[0m\n",
      "\u001b[?25hRequirement already satisfied: psutil in /usr/local/lib/python3.10/site-packages (from accelerate) (5.9.8)\n",
      "Requirement already satisfied: jsonschema>=3.0 in /usr/local/lib/python3.10/site-packages (from altair<6.0,>=4.2.0->gradio) (4.22.0)\n",
      "Collecting toolz (from altair<6.0,>=4.2.0->gradio)\n",
      "  Downloading https://mirrors.cloud.aliyuncs.com/pypi/packages/b7/8a/d82202c9f89eab30f9fc05380daae87d617e2ad11571ab23d7c13a29bb54/toolz-0.12.1-py3-none-any.whl (56 kB)\n",
      "\u001b[2K     \u001b[90m━━━━━━━━━━━━━━━━━━━━━━━━━━━━━━━━━━━━━━━━\u001b[0m \u001b[32m56.1/56.1 kB\u001b[0m \u001b[31m14.4 MB/s\u001b[0m eta \u001b[36m0:00:00\u001b[0m\n",
      "\u001b[?25hRequirement already satisfied: anyio in /usr/local/lib/python3.10/site-packages (from httpx>=0.24.1->gradio) (4.4.0)\n",
      "Requirement already satisfied: certifi in /usr/local/lib/python3.10/site-packages (from httpx>=0.24.1->gradio) (2024.2.2)\n",
      "Requirement already satisfied: httpcore==1.* in /usr/local/lib/python3.10/site-packages (from httpx>=0.24.1->gradio) (1.0.5)\n",
      "Requirement already satisfied: idna in /usr/local/lib/python3.10/site-packages (from httpx>=0.24.1->gradio) (3.7)\n",
      "Requirement already satisfied: sniffio in /usr/local/lib/python3.10/site-packages (from httpx>=0.24.1->gradio) (1.3.1)\n",
      "Requirement already satisfied: h11<0.15,>=0.13 in /usr/local/lib/python3.10/site-packages (from httpcore==1.*->httpx>=0.24.1->gradio) (0.14.0)\n",
      "Requirement already satisfied: cycler>=0.10 in /usr/local/lib/python3.10/site-packages (from matplotlib~=3.0->gradio) (0.12.1)\n",
      "Requirement already satisfied: fonttools>=4.22.0 in /usr/local/lib/python3.10/site-packages (from matplotlib~=3.0->gradio) (4.52.4)\n",
      "Requirement already satisfied: kiwisolver>=1.0.1 in /usr/local/lib/python3.10/site-packages (from matplotlib~=3.0->gradio) (1.4.5)\n",
      "Requirement already satisfied: pyparsing>=2.2.1 in /usr/local/lib/python3.10/site-packages (from matplotlib~=3.0->gradio) (3.1.2)\n",
      "Requirement already satisfied: python-dateutil>=2.7 in /usr/local/lib/python3.10/site-packages (from matplotlib~=3.0->gradio) (2.9.0.post0)\n",
      "Requirement already satisfied: pytz>=2020.1 in /usr/local/lib/python3.10/site-packages (from pandas<3.0,>=1.0->gradio) (2024.1)\n",
      "Requirement already satisfied: tzdata>=2022.7 in /usr/local/lib/python3.10/site-packages (from pandas<3.0,>=1.0->gradio) (2024.1)\n",
      "Requirement already satisfied: annotated-types>=0.4.0 in /usr/local/lib/python3.10/site-packages (from pydantic>=2.0->gradio) (0.7.0)\n",
      "Requirement already satisfied: pydantic-core==2.18.3 in /usr/local/lib/python3.10/site-packages (from pydantic>=2.0->gradio) (2.18.3)\n",
      "Requirement already satisfied: click>=8.0.0 in /usr/local/lib/python3.10/site-packages (from typer<1.0,>=0.12->gradio) (8.1.7)\n",
      "Requirement already satisfied: shellingham>=1.3.0 in /usr/local/lib/python3.10/site-packages (from typer<1.0,>=0.12->gradio) (1.5.4)\n",
      "Requirement already satisfied: rich>=10.11.0 in /usr/local/lib/python3.10/site-packages (from typer<1.0,>=0.12->gradio) (13.7.1)\n",
      "Requirement already satisfied: starlette<0.38.0,>=0.37.2 in /usr/local/lib/python3.10/site-packages (from fastapi->gradio) (0.37.2)\n",
      "Requirement already satisfied: fastapi-cli>=0.0.2 in /usr/local/lib/python3.10/site-packages (from fastapi->gradio) (0.0.4)\n",
      "Requirement already satisfied: ujson!=4.0.2,!=4.1.0,!=4.2.0,!=4.3.0,!=5.0.0,!=5.1.0,>=4.0.1 in /usr/local/lib/python3.10/site-packages (from fastapi->gradio) (5.10.0)\n",
      "Requirement already satisfied: email_validator>=2.0.0 in /usr/local/lib/python3.10/site-packages (from fastapi->gradio) (2.1.1)\n",
      "Requirement already satisfied: charset-normalizer<4,>=2 in /usr/local/lib/python3.10/site-packages (from requests->transformers>=4.30.2) (3.3.2)\n",
      "Requirement already satisfied: mpmath<1.4.0,>=1.1.0 in /usr/local/lib/python3.10/site-packages (from sympy->torch>=2.0) (1.3.0)\n",
      "Requirement already satisfied: dnspython>=2.0.0 in /usr/local/lib/python3.10/site-packages (from email_validator>=2.0.0->fastapi->gradio) (2.3.0)\n",
      "Requirement already satisfied: attrs>=22.2.0 in /usr/local/lib/python3.10/site-packages (from jsonschema>=3.0->altair<6.0,>=4.2.0->gradio) (23.2.0)\n",
      "Requirement already satisfied: jsonschema-specifications>=2023.03.6 in /usr/local/lib/python3.10/site-packages (from jsonschema>=3.0->altair<6.0,>=4.2.0->gradio) (2023.12.1)\n",
      "Requirement already satisfied: referencing>=0.28.4 in /usr/local/lib/python3.10/site-packages (from jsonschema>=3.0->altair<6.0,>=4.2.0->gradio) (0.35.1)\n",
      "Requirement already satisfied: rpds-py>=0.7.1 in /usr/local/lib/python3.10/site-packages (from jsonschema>=3.0->altair<6.0,>=4.2.0->gradio) (0.18.1)\n",
      "Requirement already satisfied: six>=1.5 in /usr/local/lib/python3.10/site-packages (from python-dateutil>=2.7->matplotlib~=3.0->gradio) (1.16.0)\n",
      "Requirement already satisfied: markdown-it-py>=2.2.0 in /usr/local/lib/python3.10/site-packages (from rich>=10.11.0->typer<1.0,>=0.12->gradio) (3.0.0)\n",
      "Requirement already satisfied: pygments<3.0.0,>=2.13.0 in /usr/local/lib/python3.10/site-packages (from rich>=10.11.0->typer<1.0,>=0.12->gradio) (2.18.0)\n",
      "Requirement already satisfied: exceptiongroup>=1.0.2 in /usr/local/lib/python3.10/site-packages (from anyio->httpx>=0.24.1->gradio) (1.2.1)\n",
      "Requirement already satisfied: httptools>=0.5.0 in /usr/local/lib/python3.10/site-packages (from uvicorn[standard]>=0.12.0->fastapi->gradio) (0.6.1)\n",
      "Requirement already satisfied: python-dotenv>=0.13 in /usr/local/lib/python3.10/site-packages (from uvicorn[standard]>=0.12.0->fastapi->gradio) (1.0.1)\n",
      "Requirement already satisfied: uvloop!=0.15.0,!=0.15.1,>=0.14.0 in /usr/local/lib/python3.10/site-packages (from uvicorn[standard]>=0.12.0->fastapi->gradio) (0.19.0)\n",
      "Requirement already satisfied: watchfiles>=0.13 in /usr/local/lib/python3.10/site-packages (from uvicorn[standard]>=0.12.0->fastapi->gradio) (0.22.0)\n",
      "Requirement already satisfied: mdurl~=0.1 in /usr/local/lib/python3.10/site-packages (from markdown-it-py>=2.2.0->rich>=10.11.0->typer<1.0,>=0.12->gradio) (0.1.2)\n",
      "Building wheels for collected packages: ffmpy\n",
      "  Building wheel for ffmpy (setup.py) ... \u001b[?25ldone\n",
      "\u001b[?25h  Created wheel for ffmpy: filename=ffmpy-0.3.2-py3-none-any.whl size=5599 sha256=1fb93c99181724ca55ddb45285f72af66a5cd175e0f917928538e30c4f2af554\n",
      "  Stored in directory: /root/.cache/pip/wheels/e3/e1/de/532f688aa0196c26094c94797bc64fb582880902027092e0d2\n",
      "Successfully built ffmpy\n"
     ]
    }
   ],
   "source": [
    "pip install protobuf 'transformers>=4.30.2' cpm_kernels 'torch>=2.0' gradio mdtex2html sentencepiece accelerate"
   ]
  },
  {
   "cell_type": "code",
   "execution_count": null,
   "id": "f0a0cad5",
   "metadata": {},
   "outputs": [],
   "source": [
    "pip install modelscope"
   ]
  },
  {
   "cell_type": "markdown",
   "id": "7edf13d9",
   "metadata": {},
   "source": [
    "\n",
    "\n",
    "\n"
   ]
  },
  {
   "cell_type": "code",
   "execution_count": null,
   "id": "25c15be9",
   "metadata": {},
   "outputs": [],
   "source": [
    "from modelscope import snapshot_download\n",
    "model_dir = snapshot_download(\"ZhipuAI/chatglm3-6b\", revision = \"v1.0.0\")"
   ]
  },
  {
   "cell_type": "code",
   "execution_count": 2,
   "id": "5c6000ed",
   "metadata": {
    "ExecutionIndicator": {
     "show": false
    },
    "execution": {
     "iopub.execute_input": "2024-06-10T08:31:08.431388Z",
     "iopub.status.busy": "2024-06-10T08:31:08.431075Z",
     "iopub.status.idle": "2024-06-10T08:31:08.435382Z",
     "shell.execute_reply": "2024-06-10T08:31:08.434551Z",
     "shell.execute_reply.started": "2024-06-10T08:31:08.431370Z"
    },
    "tags": []
   },
   "outputs": [
    {
     "ename": "SyntaxError",
     "evalue": "invalid decimal literal (3588834437.py, line 2)",
     "output_type": "error",
     "traceback": [
      "\u001b[0;36m  Cell \u001b[0;32mIn[2], line 2\u001b[0;36m\u001b[0m\n\u001b[0;31m    git clone https://www.modelscope.cn/ZhipuAI/chatglm3-6b.git\u001b[0m\n\u001b[0m                                                         ^\u001b[0m\n\u001b[0;31mSyntaxError\u001b[0m\u001b[0;31m:\u001b[0m invalid decimal literal\n"
     ]
    }
   ],
   "source": [
    "git lfs install\n",
    "git clone https://www.modelscope.cn/ZhipuAI/chatglm3-6b.git"
   ]
  },
  {
   "cell_type": "code",
   "execution_count": 3,
   "id": "2c73b822",
   "metadata": {
    "ExecutionIndicator": {
     "show": false
    },
    "execution": {
     "iopub.execute_input": "2024-06-10T08:31:10.624816Z",
     "iopub.status.busy": "2024-06-10T08:31:10.624452Z",
     "iopub.status.idle": "2024-06-10T08:33:37.208047Z",
     "shell.execute_reply": "2024-06-10T08:33:37.207445Z",
     "shell.execute_reply.started": "2024-06-10T08:31:10.624796Z"
    },
    "tags": []
   },
   "outputs": [
    {
     "name": "stderr",
     "output_type": "stream",
     "text": [
      "2024-06-10 16:31:12,921 - modelscope - INFO - PyTorch version 2.3.0+cu121 Found.\n",
      "2024-06-10 16:31:12,924 - modelscope - INFO - TensorFlow version 2.16.1 Found.\n",
      "2024-06-10 16:31:12,925 - modelscope - INFO - Loading ast index from /mnt/workspace/.cache/modelscope/ast_indexer\n",
      "2024-06-10 16:31:12,925 - modelscope - INFO - No valid ast index found from /mnt/workspace/.cache/modelscope/ast_indexer, generating ast index from prebuilt!\n",
      "2024-06-10 16:31:13,300 - modelscope - INFO - Loading done! Current index file version is 1.15.0, with md5 03830e53bae2c0a8f8ac72c969ac6ac1 and a total number of 980 components indexed\n",
      "/usr/local/lib/python3.10/site-packages/tqdm/auto.py:21: TqdmWarning: IProgress not found. Please update jupyter and ipywidgets. See https://ipywidgets.readthedocs.io/en/stable/user_install.html\n",
      "  from .autonotebook import tqdm as notebook_tqdm\n",
      "2024-06-10 16:31:15.795340: I tensorflow/core/util/port.cc:113] oneDNN custom operations are on. You may see slightly different numerical results due to floating-point round-off errors from different computation orders. To turn them off, set the environment variable `TF_ENABLE_ONEDNN_OPTS=0`.\n",
      "2024-06-10 16:31:15.838461: I tensorflow/core/platform/cpu_feature_guard.cc:210] This TensorFlow binary is optimized to use available CPU instructions in performance-critical operations.\n",
      "To enable the following instructions: AVX2 AVX512F AVX512_VNNI FMA, in other operations, rebuild TensorFlow with the appropriate compiler flags.\n",
      "2024-06-10 16:31:17.035604: W tensorflow/compiler/tf2tensorrt/utils/py_utils.cc:38] TF-TRT Warning: Could not find TensorRT\n",
      "2024-06-10 16:31:18,439 - modelscope - INFO - Use user-specified model revision: v1.0.0\n",
      "Downloading: 100%|██████████| 1.29k/1.29k [00:00<00:00, 1.92kB/s]\n",
      "Downloading: 100%|██████████| 40.0/40.0 [00:00<00:00, 73.0B/s]\n",
      "Downloading: 100%|██████████| 2.28k/2.28k [00:00<00:00, 4.27kB/s]\n",
      "Downloading: 100%|██████████| 4.04k/4.04k [00:00<00:00, 10.1kB/s]\n",
      "Downloading: 100%|██████████| 54.3k/54.3k [00:00<00:00, 108kB/s]\n",
      "Downloading: 100%|██████████| 1.70G/1.70G [00:06<00:00, 273MB/s] \n",
      "Downloading: 100%|██████████| 1.83G/1.83G [00:05<00:00, 353MB/s] \n",
      "Downloading: 100%|██████████| 1.80G/1.80G [00:06<00:00, 300MB/s] \n",
      "Downloading: 100%|██████████| 1.69G/1.69G [00:04<00:00, 367MB/s] \n",
      "Downloading: 100%|██████████| 1.83G/1.83G [00:06<00:00, 293MB/s] \n",
      "Downloading: 100%|██████████| 1.80G/1.80G [00:07<00:00, 269MB/s] \n",
      "Downloading: 100%|██████████| 0.98G/0.98G [00:04<00:00, 250MB/s] \n",
      "Downloading: 100%|██████████| 20.0k/20.0k [00:00<00:00, 47.8kB/s]\n",
      "Downloading: 100%|██████████| 14.3k/14.3k [00:00<00:00, 25.4kB/s]\n",
      "Downloading: 100%|██████████| 4.37k/4.37k [00:00<00:00, 9.68kB/s]\n",
      "Downloading: 100%|██████████| 11.0k/11.0k [00:00<00:00, 26.0kB/s]\n",
      "Downloading: 100%|██████████| 995k/995k [00:00<00:00, 2.12MB/s]\n",
      "Downloading: 100%|██████████| 244/244 [00:00<00:00, 444B/s]\n",
      "Loading checkpoint shards: 100%|██████████| 7/7 [00:42<00:00,  6.09s/it]\n"
     ]
    },
    {
     "name": "stdout",
     "output_type": "stream",
     "text": [
      "你好👋！我是人工智能助手 ChatGLM3-6B，很高兴见到你，欢迎问我任何问题。\n",
      "晚上睡不着时，可以尝试以下方法来放松身心，帮助入睡：\n",
      "\n",
      "1. 保持冷静：不要焦虑，知道失眠只是暂时的问题，很快就会过去。\n",
      "\n",
      "2. 改变环境：关掉 lights，拉上窗帘，制造一个安静、舒适的环境。\n",
      "\n",
      "3. 放松身体：尝试通过深呼吸、渐进性肌肉松弛或冥想等方法来放松身体。\n",
      "\n",
      "4. 改变思维：不要去考虑太多事情，尝试将注意力转移到其他事情上，比如看书、听音乐等。\n",
      "\n",
      "5. 规律作息：尽量保持规律的作息时间，每天按时上床睡觉和起床。\n",
      "\n",
      "6. 运动：适量的运动可以帮助消耗能量，提高睡眠质量。但避免在睡前两小时内进行剧烈运动。\n",
      "\n",
      "7. 饮食：尽量避免在睡前两小时内进食，特别是含有咖啡因的食物或饮料。\n",
      "\n",
      "8. 睡前仪式：睡前进行一些放松的活动，比如洗个热水澡、读一本书等，可以帮助身体和大脑进入睡眠状态。\n",
      "\n",
      "如果这些方法都不奏效，你可以考虑咨询医生或专业心理医生的建议。\n"
     ]
    }
   ],
   "source": [
    "from modelscope import AutoTokenizer, AutoModel, snapshot_download\n",
    "model_dir = snapshot_download(\"ZhipuAI/chatglm3-6b\", revision = \"v1.0.0\")\n",
    "tokenizer = AutoTokenizer.from_pretrained(model_dir, trust_remote_code=True)\n",
    "model = AutoModel.from_pretrained(model_dir, trust_remote_code=True).half().cuda()\n",
    "model = model.eval()\n",
    "response, history = model.chat(tokenizer, \"你好\", history=history)\n",
    "print(response)"
   ]
  },
  {
   "cell_type": "code",
   "execution_count": 4,
   "id": "3b0685b5-301a-4a92-92dd-165ce8d6c1d0",
   "metadata": {
    "execution": {
     "iopub.execute_input": "2024-06-10T08:35:52.741423Z",
     "iopub.status.busy": "2024-06-10T08:35:52.740762Z",
     "iopub.status.idle": "2024-06-10T08:35:54.825987Z",
     "shell.execute_reply": "2024-06-10T08:35:54.825426Z",
     "shell.execute_reply.started": "2024-06-10T08:35:52.741381Z"
    },
    "tags": []
   },
   "outputs": [
    {
     "name": "stdout",
     "output_type": "stream",
     "text": [
      "这两句话的区别在于季节和气候不同。冬天通常气温较低，需要保暖，所以建议穿较多的衣服，以保持身体温暖；而夏天气温较高，建议穿较少的衣服，以保持身体凉爽。因此，两句话所传达的建议和观念也不同。\n"
     ]
    }
   ],
   "source": [
    "response, history = model.chat(tokenizer, \"请说出以下两句话区别在哪里？ 1、冬天：能穿多少穿多少 2、夏天：能穿多少穿多少\", history=history)\n",
    "print(response)"
   ]
  },
  {
   "cell_type": "code",
   "execution_count": 5,
   "id": "c171e936-bb32-405c-b1d1-508227a9e5fb",
   "metadata": {
    "execution": {
     "iopub.execute_input": "2024-06-10T08:37:58.575830Z",
     "iopub.status.busy": "2024-06-10T08:37:58.575475Z",
     "iopub.status.idle": "2024-06-10T08:38:04.370295Z",
     "shell.execute_reply": "2024-06-10T08:38:04.369678Z",
     "shell.execute_reply.started": "2024-06-10T08:37:58.575811Z"
    },
    "tags": []
   },
   "outputs": [
    {
     "name": "stdout",
     "output_type": "stream",
     "text": [
      "这两句话都描述了单身狗的情况，但用词和表达方式不同。\n",
      "\n",
      "1. 单身狗产生的原因有两个，一是谁都看不上，二是谁都看不上。\n",
      "\n",
      "在这句话中，“谁看不上”是主语，表示单身狗的存在是因为他/她自己看不上别人，这可能是因为他/她自己的要求太高，或者他/她没有找到合适的人。\n",
      "\n",
      "2. 单身狗产生的原因有两个，一是谁都看不上，二是谁都看不上。\n",
      "\n",
      "在这句话中，“谁看不上”是宾语，表示单身狗的存在是因为别人看不上他/她，这可能是因为他/她的外表、性格、经济状况等方面存在一些问题，或者他/她没有展现出自己的魅力。无论哪种情况，都可能导致单身狗的情况。\n"
     ]
    }
   ],
   "source": [
    "response, history = model.chat(tokenizer, \"请说出以下两句话区别在哪里？单身狗产生的原因有两个，一是谁都看不上，二是谁都看不上\", history=history)\n",
    "print(response)"
   ]
  },
  {
   "cell_type": "code",
   "execution_count": 6,
   "id": "20219da5-ca43-40f7-9e18-1f2f8a89d34c",
   "metadata": {
    "execution": {
     "iopub.execute_input": "2024-06-10T08:38:04.371782Z",
     "iopub.status.busy": "2024-06-10T08:38:04.371442Z",
     "iopub.status.idle": "2024-06-10T08:38:06.682306Z",
     "shell.execute_reply": "2024-06-10T08:38:06.681676Z",
     "shell.execute_reply.started": "2024-06-10T08:38:04.371761Z"
    }
   },
   "outputs": [
    {
     "name": "stdout",
     "output_type": "stream",
     "text": [
      "这句话有点绕，但是根据语境可以分析出：\n",
      "\n",
      "他知道我知道他不知道，这句话表明说话者 A 知道 B 不知道的事情 C，但是 C 也知道 B 不知道的事情。这里有一个未知数，即C知道B不知道的事情，也就是说话者A不知道的事情。\n"
     ]
    }
   ],
   "source": [
    "response, history = model.chat(tokenizer, \"他知道我知道你知道他不知道吗？ 这句话里，到底谁不知道\", history=history)\n",
    "print(response)"
   ]
  },
  {
   "cell_type": "code",
   "execution_count": 7,
   "id": "e7decc21-91d6-4a9b-9688-f86505150f28",
   "metadata": {
    "execution": {
     "iopub.execute_input": "2024-06-10T08:38:06.683324Z",
     "iopub.status.busy": "2024-06-10T08:38:06.683062Z",
     "iopub.status.idle": "2024-06-10T08:38:07.910021Z",
     "shell.execute_reply": "2024-06-10T08:38:07.909407Z",
     "shell.execute_reply.started": "2024-06-10T08:38:06.683307Z"
    }
   },
   "outputs": [
    {
     "name": "stdout",
     "output_type": "stream",
     "text": [
      "这句话的意思是，明明知道白白喜欢他，但白白就是不说。那么根据这个信息，我们可以得出结论：白白喜欢他。\n"
     ]
    }
   ],
   "source": [
    "response, history = model.chat(tokenizer, \"明明明明明白白白喜欢他，可她就是不说。 这句话里，明明和白白谁喜欢谁？\", history=history)\n",
    "print(response)"
   ]
  },
  {
   "cell_type": "code",
   "execution_count": 8,
   "id": "fb51821c-6ace-4623-9a53-6be159055acb",
   "metadata": {
    "execution": {
     "iopub.execute_input": "2024-06-10T08:38:07.911407Z",
     "iopub.status.busy": "2024-06-10T08:38:07.911154Z",
     "iopub.status.idle": "2024-06-10T08:38:18.528598Z",
     "shell.execute_reply": "2024-06-10T08:38:18.527884Z",
     "shell.execute_reply.started": "2024-06-10T08:38:07.911389Z"
    },
    "tags": []
   },
   "outputs": [
    {
     "name": "stdout",
     "output_type": "stream",
     "text": [
      "1. 意思：表示言语或行动所表示的含义或意义。\n",
      "\n",
      "领导：你这是什么意思？——领导询问小明的话，表示对小明言语或行为含义的理解不明。\n",
      "\n",
      "2. 意思：表示言语或行为所传递的信息或意义。\n",
      "\n",
      "小明：没什么意思。意思意思。——小明回答领导的问话，表示他的言语或行为没有特别的含义或意义。\n",
      "\n",
      "3. 意思：表示言语或行为所暗示的含义或意义。\n",
      "\n",
      "领导：你这就不够意思了。——领导对小明的话表示不满，认为小明的回答不够充分或不够明确。\n",
      "\n",
      "4. 意思：表示言语或行为所暗示的含义或意义。\n",
      "\n",
      "小明：小意思，小意思。——小明回答领导的问话，表示他的回答只是微不足道的小事情，并不重要。\n",
      "\n",
      "5. 意思：表示言语或行为所传递的信息或意义。\n",
      "\n",
      "领导：你这人真有意思。——领导对小明的话表示赞赏，认为小明的人格或行为有趣。\n",
      "\n",
      "6. 意思：表示言语或行为所传递的信息或意义。\n",
      "\n",
      "小明：其实也没有别的意思。——小明回答领导的问话，表示他的回答只是简单的回答问题，并没有其他的意思。\n",
      "\n",
      "7. 意思：表示言语或行为所暗示的含义或意义。\n",
      "\n",
      "领导：我就不好意思了。——领导对小明的话表示抱歉，认为自己问的问题让小明不好意思了。\n"
     ]
    }
   ],
   "source": [
    "response, history = model.chat(tokenizer, \"领导：你这是什么意思？ 小明：没什么意思。意思意思。 领导：你这就不够意思了。 小明：小意思，小意思。领导：你这人真有意思。 小明：其实也没有别的意思。 领导：那我就不好意思了。 小明：是我不好意思。请问：以上“意思”分别是什么意思。\", history=history)\n",
    "print(response)"
   ]
  },
  {
   "cell_type": "code",
   "execution_count": null,
   "id": "762bf8b6-7fe7-4cc5-94ce-44a11333badd",
   "metadata": {},
   "outputs": [],
   "source": []
  }
 ],
 "metadata": {
  "kernelspec": {
   "display_name": "Python 3 (ipykernel)",
   "language": "python",
   "name": "python3"
  },
  "language_info": {
   "codemirror_mode": {
    "name": "ipython",
    "version": 3
   },
   "file_extension": ".py",
   "mimetype": "text/x-python",
   "name": "python",
   "nbconvert_exporter": "python",
   "pygments_lexer": "ipython3",
   "version": "3.10.14"
  }
 },
 "nbformat": 4,
 "nbformat_minor": 5
}
