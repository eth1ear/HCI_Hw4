{
 "cells": [
  {
   "cell_type": "code",
   "execution_count": 1,
   "id": "fa20759c",
   "metadata": {
    "ExecutionIndicator": {
     "show": true
    },
    "execution": {
     "iopub.execute_input": "2024-06-10T16:29:11.789042Z",
     "iopub.status.busy": "2024-06-10T16:29:11.788828Z",
     "iopub.status.idle": "2024-06-10T16:30:06.338792Z",
     "shell.execute_reply": "2024-06-10T16:30:06.338060Z",
     "shell.execute_reply.started": "2024-06-10T16:29:11.789024Z"
    },
    "scrolled": true,
    "tags": []
   },
   "outputs": [
    {
     "name": "stderr",
     "output_type": "stream",
     "text": [
      "2024-06-11 00:29:13,125 - modelscope - INFO - PyTorch version 2.3.0+cu121 Found.\n",
      "2024-06-11 00:29:13,127 - modelscope - INFO - TensorFlow version 2.16.1 Found.\n",
      "2024-06-11 00:29:13,128 - modelscope - INFO - Loading ast index from /mnt/workspace/.cache/modelscope/ast_indexer\n",
      "2024-06-11 00:29:13,159 - modelscope - INFO - Loading done! Current index file version is 1.15.0, with md5 03830e53bae2c0a8f8ac72c969ac6ac1 and a total number of 980 components indexed\n",
      "/usr/local/lib/python3.10/site-packages/tqdm/auto.py:21: TqdmWarning: IProgress not found. Please update jupyter and ipywidgets. See https://ipywidgets.readthedocs.io/en/stable/user_install.html\n",
      "  from .autonotebook import tqdm as notebook_tqdm\n",
      "2024-06-11 00:29:14.557090: I tensorflow/core/util/port.cc:113] oneDNN custom operations are on. You may see slightly different numerical results due to floating-point round-off errors from different computation orders. To turn them off, set the environment variable `TF_ENABLE_ONEDNN_OPTS=0`.\n",
      "2024-06-11 00:29:14.597332: I tensorflow/core/platform/cpu_feature_guard.cc:210] This TensorFlow binary is optimized to use available CPU instructions in performance-critical operations.\n",
      "To enable the following instructions: AVX2 AVX512F AVX512_VNNI FMA, in other operations, rebuild TensorFlow with the appropriate compiler flags.\n",
      "2024-06-11 00:29:15.278796: W tensorflow/compiler/tf2tensorrt/utils/py_utils.cc:38] TF-TRT Warning: Could not find TensorRT\n",
      "2024-06-11 00:29:16,244 - modelscope - INFO - Use user-specified model revision: v1.0.2\n",
      "Loading checkpoint shards: 100%|██████████| 8/8 [00:47<00:00,  5.97s/it]\n"
     ]
    },
    {
     "name": "stdout",
     "output_type": "stream",
     "text": [
      "你好，有什么我可以帮助你的吗？\n"
     ]
    }
   ],
   "source": [
    "import torch\n",
    "from modelscope import snapshot_download, AutoTokenizer, AutoModelForCausalLM\n",
    "\n",
    "model_dir = snapshot_download('Shanghai_AI_Laboratory/internlm-chat-7b', revision='v1.0.2')\n",
    "tokenizer = AutoTokenizer.from_pretrained(model_dir, device_map=\"cuda:0\", trust_remote_code=True)\n",
    "# Set `torch_dtype=torch.float16` to load model in float16, otherwise it will be loaded as float32 and might cause OOM Error.\n",
    "model = AutoModelForCausalLM.from_pretrained(model_dir, device_map=\"cuda:0\",  trust_remote_code=True, torch_dtype=torch.float16)\n",
    "model = model.eval()\n",
    "response, history = model.chat(tokenizer, \"你好\", history=[])\n",
    "print(response)"
   ]
  },
  {
   "cell_type": "code",
   "execution_count": 2,
   "id": "85e79cea-2684-40f5-8f36-1811daeb0d36",
   "metadata": {
    "execution": {
     "iopub.execute_input": "2024-06-10T16:30:06.339981Z",
     "iopub.status.busy": "2024-06-10T16:30:06.339589Z",
     "iopub.status.idle": "2024-06-10T16:30:48.590346Z",
     "shell.execute_reply": "2024-06-10T16:30:48.589869Z",
     "shell.execute_reply.started": "2024-06-10T16:30:06.339962Z"
    }
   },
   "outputs": [
    {
     "name": "stdout",
     "output_type": "stream",
     "text": [
      "1、冬天：能穿多少穿多少 2、夏天：能穿多少穿多少\n"
     ]
    }
   ],
   "source": [
    "response, history = model.chat(tokenizer, \"请说出以下两句话区别在哪里？ 1、冬天：能穿多少穿多少 2、夏天：能穿多少穿多少\", history=history)\n",
    "print(response)"
   ]
  },
  {
   "cell_type": "code",
   "execution_count": 3,
   "id": "45699b55-f868-4fb9-bb80-60998b5f52ae",
   "metadata": {
    "execution": {
     "iopub.execute_input": "2024-06-10T16:30:48.591736Z",
     "iopub.status.busy": "2024-06-10T16:30:48.591497Z",
     "iopub.status.idle": "2024-06-10T16:30:56.129393Z",
     "shell.execute_reply": "2024-06-10T16:30:56.128723Z",
     "shell.execute_reply.started": "2024-06-10T16:30:48.591719Z"
    }
   },
   "outputs": [
    {
     "name": "stdout",
     "output_type": "stream",
     "text": [
      "单身狗产生的原因有两个，一是谁都看不上，二是谁都看不上\n"
     ]
    }
   ],
   "source": [
    "response, history = model.chat(tokenizer, \"请说出以下两句话区别在哪里？单身狗产生的原因有两个，一是谁都看不上，二是谁都看不上\", history=history)\n",
    "print(response)"
   ]
  },
  {
   "cell_type": "code",
   "execution_count": 4,
   "id": "85269f4e-1b29-43c4-8e11-18e83df91369",
   "metadata": {
    "execution": {
     "iopub.execute_input": "2024-06-10T16:30:56.130371Z",
     "iopub.status.busy": "2024-06-10T16:30:56.130144Z",
     "iopub.status.idle": "2024-06-10T16:31:39.731019Z",
     "shell.execute_reply": "2024-06-10T16:31:39.730531Z",
     "shell.execute_reply.started": "2024-06-10T16:30:56.130355Z"
    }
   },
   "outputs": [
    {
     "name": "stdout",
     "output_type": "stream",
     "text": [
      "这句话里，我不知道\n"
     ]
    }
   ],
   "source": [
    "response, history = model.chat(tokenizer, \"他知道我知道你知道他不知道吗？ 这句话里，到底谁不知道\", history=history)\n",
    "print(response)"
   ]
  },
  {
   "cell_type": "code",
   "execution_count": 5,
   "id": "c073541b-d25a-4dcb-b7bb-9ded8310750b",
   "metadata": {
    "execution": {
     "iopub.execute_input": "2024-06-10T16:31:39.731969Z",
     "iopub.status.busy": "2024-06-10T16:31:39.731743Z",
     "iopub.status.idle": "2024-06-10T16:31:39.994517Z",
     "shell.execute_reply": "2024-06-10T16:31:39.994064Z",
     "shell.execute_reply.started": "2024-06-10T16:31:39.731952Z"
    }
   },
   "outputs": [
    {
     "name": "stdout",
     "output_type": "stream",
     "text": [
      "明明喜欢白白\n"
     ]
    }
   ],
   "source": [
    "response, history = model.chat(tokenizer, \"明明明明明白白白喜欢他，可她就是不说。 这句话里，明明和白白谁喜欢谁？\", history=history)\n",
    "print(response)"
   ]
  },
  {
   "cell_type": "code",
   "execution_count": 6,
   "id": "be53eff6-135f-4b48-b332-a2252b39f6de",
   "metadata": {
    "execution": {
     "iopub.execute_input": "2024-06-10T16:31:39.995406Z",
     "iopub.status.busy": "2024-06-10T16:31:39.995199Z",
     "iopub.status.idle": "2024-06-10T16:31:45.677936Z",
     "shell.execute_reply": "2024-06-10T16:31:45.677197Z",
     "shell.execute_reply.started": "2024-06-10T16:31:39.995390Z"
    },
    "tags": []
   },
   "outputs": [
    {
     "name": "stdout",
     "output_type": "stream",
     "text": [
      "“意思”分别表示： 1、“没什么意思”：表示没有其他意思，只是单纯地表示没有其他意思。 2、“小意思”：表示对方做的是一件很小的事情，不需要太在意。 3、“不好意思”：表示对对方的行为或言语感到抱歉或不好意思。 4、“不好意思了”：表示对对方的行为或言语感到非常抱歉，需要对方原谅。\n"
     ]
    }
   ],
   "source": [
    "response, history = model.chat(tokenizer, \"领导：你这是什么意思？ 小明：没什么意思。意思意思。 领导：你这就不够意思了。 小明：小意思，小意思。领导：你这人真有意思。 小明：其实也没有别的意思。 领导：那我就不好意思了。 小明：是我不好意思。请问：以上“意思”分别是什么意思。\", history=history)\n",
    "print(response)"
   ]
  }
 ],
 "metadata": {
  "kernelspec": {
   "display_name": "Python 3 (ipykernel)",
   "language": "python",
   "name": "python3"
  },
  "language_info": {
   "codemirror_mode": {
    "name": "ipython",
    "version": 3
   },
   "file_extension": ".py",
   "mimetype": "text/x-python",
   "name": "python",
   "nbconvert_exporter": "python",
   "pygments_lexer": "ipython3",
   "version": "3.10.14"
  }
 },
 "nbformat": 4,
 "nbformat_minor": 5
}
